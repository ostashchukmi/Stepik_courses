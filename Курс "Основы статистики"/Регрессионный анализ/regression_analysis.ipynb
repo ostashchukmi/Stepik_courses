{
 "cells": [
  {
   "cell_type": "markdown",
   "id": "17fcc880-d829-486c-93ed-08293ab3e518",
   "metadata": {},
   "source": [
    "<p><strong>Модель Линейной Регрессии</strong><br />\n",
    "Модель линейной регрессии — это математическое уравнение, которое описывает линейную зависимость между независимой переменной (или переменными) и зависимой переменной. В простейшем случае с одной независимой переменной, уравнение модели имеет вид:<br>\n",
    "𝑦=𝑏0+𝑏1⋅𝑋 <br>\n",
    "где:<br>\n",
    "b0 — свободный член (пересечение линии с осью y),<br>\n",
    "b1 — коэффициент наклона (показывает, как изменяется y при изменении X).<br>\n",
    "Набор данных о различных социально-экономических показателях для каждого штата США.<br>\n",
    "Переменные:<br>\n",
    "metro_res - какой процент населения штата живет в столичной области<br>\n",
    "white - процент белокожего населения<br>\n",
    "hs_grad - процент людей со средним образованием<br>\n",
    "poverty - процент людей, проживающих в бедности<br>\n",
    "female_house - процент семей, где женщина-домозозяйка<br>\n",
    "Задача: применить регрессию с одной независимой переменной и исследовать как взаимосвязаны зависимая переменная - poverty (бедность) и предиктор (независимая переменная) - hs_grad (уровень образования).<br>\n",
    "1) Построить scatter plot, чтобы составить первое впечатление о взимосвязи двух переменных.<br>\n",
    "2) Построить регрессионную модель, которая объясняет взаимосвязь двух переменных - уравнение регрессионной прямой: y=b0 + b1*x<br>\n",
    "3) Для построения модели найти: b0 и b1. Рассчитать коэф. детерминации (R^2), чтобы выяснить насколько хорошо модель объясняет поведение зависимой переменной.<br>\n",
    "H0: b1 = 0 (отсутсвие взаимосвязи в генеральной совокупности).<br>\n",
    "4) Предсказать чему будет равна зависимая переменная, основываясь на данных о независимой переменной."
   ]
  },
  {
   "cell_type": "code",
   "execution_count": 24,
   "id": "7a1de22a-4b30-4409-8b5c-b2f8c0cbed36",
   "metadata": {},
   "outputs": [],
   "source": [
    "import numpy as np\n",
    "import pandas as pd\n",
    "import matplotlib.pyplot as plt\n",
    "import seaborn as sns\n",
    "from sklearn.linear_model import LinearRegression"
   ]
  },
  {
   "cell_type": "code",
   "execution_count": 7,
   "id": "23e1f9c9-44f1-4029-8bef-df69f39b9eae",
   "metadata": {},
   "outputs": [
    {
     "data": {
      "text/html": [
       "<div>\n",
       "<style scoped>\n",
       "    .dataframe tbody tr th:only-of-type {\n",
       "        vertical-align: middle;\n",
       "    }\n",
       "\n",
       "    .dataframe tbody tr th {\n",
       "        vertical-align: top;\n",
       "    }\n",
       "\n",
       "    .dataframe thead th {\n",
       "        text-align: right;\n",
       "    }\n",
       "</style>\n",
       "<table border=\"1\" class=\"dataframe\">\n",
       "  <thead>\n",
       "    <tr style=\"text-align: right;\">\n",
       "      <th></th>\n",
       "      <th>state</th>\n",
       "      <th>metro_res</th>\n",
       "      <th>white</th>\n",
       "      <th>hs_grad</th>\n",
       "      <th>poverty</th>\n",
       "      <th>female_house</th>\n",
       "    </tr>\n",
       "  </thead>\n",
       "  <tbody>\n",
       "    <tr>\n",
       "      <th>0</th>\n",
       "      <td>Alabama</td>\n",
       "      <td>55.4</td>\n",
       "      <td>71.3</td>\n",
       "      <td>79.9</td>\n",
       "      <td>14.6</td>\n",
       "      <td>14.2</td>\n",
       "    </tr>\n",
       "    <tr>\n",
       "      <th>1</th>\n",
       "      <td>Alaska</td>\n",
       "      <td>65.6</td>\n",
       "      <td>70.8</td>\n",
       "      <td>90.6</td>\n",
       "      <td>8.3</td>\n",
       "      <td>10.8</td>\n",
       "    </tr>\n",
       "    <tr>\n",
       "      <th>2</th>\n",
       "      <td>Arizona</td>\n",
       "      <td>88.2</td>\n",
       "      <td>87.7</td>\n",
       "      <td>83.8</td>\n",
       "      <td>13.3</td>\n",
       "      <td>11.1</td>\n",
       "    </tr>\n",
       "    <tr>\n",
       "      <th>3</th>\n",
       "      <td>Arkansas</td>\n",
       "      <td>52.5</td>\n",
       "      <td>81.0</td>\n",
       "      <td>80.9</td>\n",
       "      <td>18.0</td>\n",
       "      <td>12.1</td>\n",
       "    </tr>\n",
       "    <tr>\n",
       "      <th>4</th>\n",
       "      <td>California</td>\n",
       "      <td>94.4</td>\n",
       "      <td>77.5</td>\n",
       "      <td>81.1</td>\n",
       "      <td>12.8</td>\n",
       "      <td>12.6</td>\n",
       "    </tr>\n",
       "  </tbody>\n",
       "</table>\n",
       "</div>"
      ],
      "text/plain": [
       "        state  metro_res  white  hs_grad  poverty  female_house\n",
       "0     Alabama       55.4   71.3     79.9     14.6          14.2\n",
       "1      Alaska       65.6   70.8     90.6      8.3          10.8\n",
       "2     Arizona       88.2   87.7     83.8     13.3          11.1\n",
       "3    Arkansas       52.5   81.0     80.9     18.0          12.1\n",
       "4  California       94.4   77.5     81.1     12.8          12.6"
      ]
     },
     "execution_count": 7,
     "metadata": {},
     "output_type": "execute_result"
    }
   ],
   "source": [
    "df = pd.read_csv('states.csv')\n",
    "df.head()"
   ]
  },
  {
   "cell_type": "code",
   "execution_count": 10,
   "id": "2cc09f7f-111d-4683-8ece-734c8015fb13",
   "metadata": {},
   "outputs": [
    {
     "name": "stdout",
     "output_type": "stream",
     "text": [
      "Диаграмма рассеивания\n"
     ]
    },
    {
     "data": {
      "image/png": "[encoded data removed]",
      "text/plain": [
       "<Figure size 640x480 with 1 Axes>"
      ]
     },
     "metadata": {},
     "output_type": "display_data"
    }
   ],
   "source": [
    "# Строим scatter plot:\n",
    "sns.scatterplot(data=df, x=df['hs_grad'], y=df['poverty'], color='orange');\n",
    "print('Диаграмма рассеивания')"
   ]
  },
  {
   "cell_type": "markdown",
   "id": "d2d56e55-8117-47e3-91db-0ab90ef9156f",
   "metadata": {},
   "source": [
    "Взаимосвязь линейна и отрицательна."
   ]
  },
  {
   "cell_type": "code",
   "execution_count": 22,
   "id": "70864520-50e8-4ed0-ae8f-3e7ddf9e224e",
   "metadata": {},
   "outputs": [
    {
     "name": "stdout",
     "output_type": "stream",
     "text": [
      "Коэффициент корреляции равен -0.7468582531582506\n"
     ]
    }
   ],
   "source": [
    "# Считаем коэффициент корреляции Пирсона между двумя переменными при помощи функции np.corrcoef\n",
    "r_xy = np.corrcoef(x=df['hs_grad'], y=df['poverty'])[0, 1]\n",
    "print(f\"Коэффициент корреляции равен {r_xy}\")"
   ]
  },
  {
   "cell_type": "code",
   "execution_count": 13,
   "id": "1f2339f3-cb34-4c50-beef-f73846ef6f42",
   "metadata": {},
   "outputs": [
    {
     "name": "stdout",
     "output_type": "stream",
     "text": [
      "Коэффициент детерминации равен 0.5577972503105936\n"
     ]
    }
   ],
   "source": [
    "R_sq = r_xy ** 2\n",
    "print(f'Коэффициент детерминации равен {R_sq}')"
   ]
  },
  {
   "cell_type": "markdown",
   "id": "c52ab332-9a90-417d-9a1e-f555d0d27f90",
   "metadata": {},
   "source": [
    "Практически 56% изменчивости нашей зависимой переменной объясняется нашей моделью. Что не очень много, тк практически половина изменчивости обсулавливаетс яне включенными в модель факторами."
   ]
  },
  {
   "cell_type": "code",
   "execution_count": 23,
   "id": "ee35a37e-0135-467c-8943-8e5c936a5cfd",
   "metadata": {},
   "outputs": [],
   "source": [
    "# Преобразуем столбцы DataFrame в массивы NumPy. \n",
    "# .reshape(-1, 1) изменяет форму массивов на двумерные массивы - матрицы с одной колонкой и неограниченным количеством строк.\n",
    "y = df['poverty'].to_numpy().reshape(-1, 1)\n",
    "X = df['hs_grad'].to_numpy().reshape(-1, 1)\n",
    "\n",
    "# Создаём объект модели линейной регрессии из библиотеки scikit-learn:\n",
    "LR = LinearRegression()\n",
    "\n",
    "# Обучаем модель на данных 'x', 'y':\n",
    "model = LR.fit(X, y)"
   ]
  },
  {
   "cell_type": "markdown",
   "id": "1e053a00-ffcd-4df5-8937-61f99260615d",
   "metadata": {},
   "source": [
    "'model' будет содержать обученную модель линейной регрессии. Эту модель можно использовать для предсказания значений или для получения коэффициентов регрессии."
   ]
  },
  {
   "cell_type": "code",
   "execution_count": 27,
   "id": "41f14d4c-4638-4c65-8843-49fd776c90a0",
   "metadata": {},
   "outputs": [
    {
     "data": {
      "text/plain": [
       "64.781"
      ]
     },
     "execution_count": 27,
     "metadata": {},
     "output_type": "execute_result"
    }
   ],
   "source": [
    "# Найдем b0 используя атрибут объекта модели линейной регрессии .intercept_\n",
    "b0 = model.intercept_[0]\n",
    "b0 = round(b0, 4)\n",
    "b0"
   ]
  },
  {
   "cell_type": "code",
   "execution_count": 28,
   "id": "fe9dad83-306f-459f-bb90-0e6d4709ef28",
   "metadata": {},
   "outputs": [
    {
     "data": {
      "text/plain": [
       "-0.6212"
      ]
     },
     "execution_count": 28,
     "metadata": {},
     "output_type": "execute_result"
    }
   ],
   "source": [
    "# Найдем b1 используя атрибут объекта модели линейной регрессии model.intercept_\n",
    "b1 = model.coef_[0][0]\n",
    "b1 = round(b1, 4)\n",
    "b1"
   ]
  },
  {
   "cell_type": "markdown",
   "id": "bfc07449-9435-4d2f-983d-0e5d6e6930b7",
   "metadata": {},
   "source": [
    "Взиамосвязь отрицательная. С увеличением на 1% количества людей имеющих среднее образование, уровень бедности населения будет уменьшаться примерно на 0.62%."
   ]
  },
  {
   "cell_type": "code",
   "execution_count": 17,
   "id": "513916e8-224d-4ff5-9771-ab9d534d328b",
   "metadata": {},
   "outputs": [
    {
     "data": {
      "image/png": "[encoded data removed]",
      "text/plain": [
       "<Figure size 640x480 with 1 Axes>"
      ]
     },
     "metadata": {},
     "output_type": "display_data"
    }
   ],
   "source": [
    "# Построим график с помощью библиотеки matplotlib:\n",
    "\n",
    "Y = [b0 + b1 * i for i in X] # создаем линию регрессии\n",
    "plt.xlabel('Процент населения имеющий среднее образование') # метка для оси x\n",
    "plt.ylabel('Уровень бедности (%)') # метка для оси y\n",
    "plt.title('Линейная регрессия') # заголовок\n",
    "plt.scatter(X, y); # строим scatter plot из исходных данных\n",
    "plt.plot(X, Y); # добавляем линию регрессии"
   ]
  },
  {
   "cell_type": "code",
   "execution_count": 30,
   "id": "8c567ec8-4294-4746-9bca-1fbe14612700",
   "metadata": {},
   "outputs": [
    {
     "name": "stdout",
     "output_type": "stream",
     "text": [
      "Уравнение линейной регрессии: y = 64.781 + (-0.6212)X\n"
     ]
    }
   ],
   "source": [
    "# Используем конструкцию тернарного оператора для создания строки уравнения линейной регрессии.\n",
    "# Оператор имеет следующую структуру: a if условие else b. В зависимости от значения b1, выбирается одна из двух строк.\n",
    "\n",
    "LR_equation = f'y = {b0} + {b1}X' if b1 > 0 else f'y = {b0} + ({b1})X'\n",
    "print(f'Уравнение линейной регрессии: {LR_equation}')"
   ]
  }
 ],
 "metadata": {
  "kernelspec": {
   "display_name": "Python 3 (ipykernel)",
   "language": "python",
   "name": "python3"
  },
  "language_info": {
   "codemirror_mode": {
    "name": "ipython",
    "version": 3
   },
   "file_extension": ".py",
   "mimetype": "text/x-python",
   "name": "python",
   "nbconvert_exporter": "python",
   "pygments_lexer": "ipython3",
   "version": "3.11.7"
  }
 },
 "nbformat": 4,
 "nbformat_minor": 5
}
